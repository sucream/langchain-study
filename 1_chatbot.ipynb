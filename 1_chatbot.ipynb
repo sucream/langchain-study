{
 "cells": [
  {
   "cell_type": "markdown",
   "id": "034762fd-4e77-4436-ba1b-5e7cd673fe8e",
   "metadata": {},
   "source": [
    "# 챗봇 만들어 보기"
   ]
  },
  {
   "cell_type": "markdown",
   "id": "02b702c5-7e35-429a-95c8-0069a901eac4",
   "metadata": {},
   "source": [
    "## 프롬프트 지정\n",
    "- 프롬프트를 통해 챗봇에 정보를 전달할 수 있음"
   ]
  },
  {
   "cell_type": "code",
   "execution_count": 1,
   "id": "14bce438-2de8-4b2d-bed8-03ca4c5992f6",
   "metadata": {},
   "outputs": [],
   "source": [
    "from langchain.prompts import PromptTemplate  # 템플릿을 사용"
   ]
  },
  {
   "cell_type": "code",
   "execution_count": 2,
   "id": "98917380-d39f-4a88-b139-f7de352e0f5f",
   "metadata": {},
   "outputs": [],
   "source": [
    "prompt_template = \"\"\"당신은 인간의 질문에 대해 친절하게 유용하고 상세한 답변을 제공하는 챗봇입니다.\n",
    "\n",
    "질문: {question}\n",
    "\n",
    "답변: \n",
    "\"\"\"\n",
    "\n",
    "prompt = PromptTemplate(\n",
    "    template=prompt_template,  # 템플릿에 사용할 문자열\n",
    "    input_variables=[\"question\"],  # 향후 템플릿 내에 주입할 데이터 변수 목록\n",
    ")"
   ]
  },
  {
   "cell_type": "markdown",
   "id": "ca6a76ed-41e3-49e4-97cb-36fd5f561da6",
   "metadata": {},
   "source": [
    "## 모델 로드\n",
    "- 여러가지 모델이 있지만, [Mistral](https://huggingface.co/TheBloke/Mistral-7B-Instruct-v0.2-GGUF), [42dot](https://huggingface.co/rozek/42dot_LLM-SFT-1.3B_GGUF) 정도만 테스트하도록 함\n",
    "- Llama-cpp 기반의 모델을 langchain에서 돌리려면 gguf 파일로 변환이 필요함(양자화 하여 더 적은 메모리로 표현)"
   ]
  },
  {
   "cell_type": "code",
   "execution_count": 5,
   "id": "e7bb3c42-531c-41c9-9e52-fb3e2072ee39",
   "metadata": {},
   "outputs": [
    {
     "name": "stderr",
     "output_type": "stream",
     "text": [
      "llama_model_loader: loaded meta data with 23 key-value pairs and 219 tensors from models/42dot_LLM-SFT-1.3B_Q4_K_M.gguf (version GGUF V3 (latest))\n",
      "llama_model_loader: Dumping metadata keys/values. Note: KV overrides do not apply in this output.\n",
      "llama_model_loader: - kv   0:                       general.architecture str              = llama\n",
      "llama_model_loader: - kv   1:                               general.name str              = LLaMA v2\n",
      "llama_model_loader: - kv   2:                       llama.context_length u32              = 4096\n",
      "llama_model_loader: - kv   3:                     llama.embedding_length u32              = 2048\n",
      "llama_model_loader: - kv   4:                          llama.block_count u32              = 24\n",
      "llama_model_loader: - kv   5:                  llama.feed_forward_length u32              = 5632\n",
      "llama_model_loader: - kv   6:                 llama.rope.dimension_count u32              = 64\n",
      "llama_model_loader: - kv   7:                 llama.attention.head_count u32              = 32\n",
      "llama_model_loader: - kv   8:              llama.attention.head_count_kv u32              = 32\n",
      "llama_model_loader: - kv   9:     llama.attention.layer_norm_rms_epsilon f32              = 0.000001\n",
      "llama_model_loader: - kv  10:                       llama.rope.freq_base f32              = 10000.000000\n",
      "llama_model_loader: - kv  11:                          general.file_type u32              = 15\n",
      "llama_model_loader: - kv  12:                       tokenizer.ggml.model str              = gpt2\n",
      "llama_model_loader: - kv  13:                      tokenizer.ggml.tokens arr[str,50304]   = [\"!\", \"\\\"\", \"#\", \"$\", \"%\", \"&\", \"'\", ...\n",
      "llama_model_loader: - kv  14:                      tokenizer.ggml.scores arr[f32,50304]   = [0.000000, 0.000000, 0.000000, 0.0000...\n",
      "llama_model_loader: - kv  15:                  tokenizer.ggml.token_type arr[i32,50304]   = [1, 1, 1, 1, 1, 1, 1, 1, 1, 1, 1, 1, ...\n",
      "llama_model_loader: - kv  16:                      tokenizer.ggml.merges arr[str,50000]   = [\"Ġ t\", \"Ġ a\", \"i n\", \"h e\", \"r e\",...\n",
      "llama_model_loader: - kv  17:                tokenizer.ggml.bos_token_id u32              = 50256\n",
      "llama_model_loader: - kv  18:                tokenizer.ggml.eos_token_id u32              = 50256\n",
      "llama_model_loader: - kv  19:            tokenizer.ggml.unknown_token_id u32              = 50256\n",
      "llama_model_loader: - kv  20:            tokenizer.ggml.padding_token_id u32              = 50258\n",
      "llama_model_loader: - kv  21:               tokenizer.ggml.add_bos_token bool             = true\n",
      "llama_model_loader: - kv  22:               general.quantization_version u32              = 2\n",
      "llama_model_loader: - type  f32:   49 tensors\n",
      "llama_model_loader: - type q4_K:  145 tensors\n",
      "llama_model_loader: - type q6_K:   25 tensors\n",
      "llm_load_vocab: special tokens definition check successful ( 48/50304 ).\n",
      "llm_load_print_meta: format           = GGUF V3 (latest)\n",
      "llm_load_print_meta: arch             = llama\n",
      "llm_load_print_meta: vocab type       = BPE\n",
      "llm_load_print_meta: n_vocab          = 50304\n",
      "llm_load_print_meta: n_merges         = 50000\n",
      "llm_load_print_meta: n_ctx_train      = 4096\n",
      "llm_load_print_meta: n_embd           = 2048\n",
      "llm_load_print_meta: n_head           = 32\n",
      "llm_load_print_meta: n_head_kv        = 32\n",
      "llm_load_print_meta: n_layer          = 24\n",
      "llm_load_print_meta: n_rot            = 64\n",
      "llm_load_print_meta: n_embd_head_k    = 64\n",
      "llm_load_print_meta: n_embd_head_v    = 64\n",
      "llm_load_print_meta: n_gqa            = 1\n",
      "llm_load_print_meta: n_embd_k_gqa     = 2048\n",
      "llm_load_print_meta: n_embd_v_gqa     = 2048\n",
      "llm_load_print_meta: f_norm_eps       = 0.0e+00\n",
      "llm_load_print_meta: f_norm_rms_eps   = 1.0e-06\n",
      "llm_load_print_meta: f_clamp_kqv      = 0.0e+00\n",
      "llm_load_print_meta: f_max_alibi_bias = 0.0e+00\n",
      "llm_load_print_meta: n_ff             = 5632\n",
      "llm_load_print_meta: n_expert         = 0\n",
      "llm_load_print_meta: n_expert_used    = 0\n",
      "llm_load_print_meta: rope scaling     = linear\n",
      "llm_load_print_meta: freq_base_train  = 10000.0\n",
      "llm_load_print_meta: freq_scale_train = 1\n",
      "llm_load_print_meta: n_yarn_orig_ctx  = 4096\n",
      "llm_load_print_meta: rope_finetuned   = unknown\n",
      "llm_load_print_meta: model type       = ?B\n",
      "llm_load_print_meta: model ftype      = Q4_K - Medium\n",
      "llm_load_print_meta: model params     = 1.44 B\n",
      "llm_load_print_meta: model size       = 844.15 MiB (4.92 BPW) \n",
      "llm_load_print_meta: general.name     = LLaMA v2\n",
      "llm_load_print_meta: BOS token        = 50256 '<|endoftext|>'\n",
      "llm_load_print_meta: EOS token        = 50256 '<|endoftext|>'\n",
      "llm_load_print_meta: UNK token        = 50256 '<|endoftext|>'\n",
      "llm_load_print_meta: PAD token        = 50258 '<||pad||>'\n",
      "llm_load_print_meta: LF token         = 128 'Ä'\n",
      "llm_load_tensors: ggml ctx size       =    0.08 MiB\n",
      "llm_load_tensors: system memory used  =  844.23 MiB\n",
      "......................................................................................\n",
      "llama_new_context_with_model: n_ctx      = 32768\n",
      "llama_new_context_with_model: freq_base  = 10000.0\n",
      "llama_new_context_with_model: freq_scale = 1\n",
      "llama_new_context_with_model: KV self size  = 6144.00 MiB, K (f16): 3072.00 MiB, V (f16): 3072.00 MiB\n",
      "llama_build_graph: non-view tensors processed: 508/508\n",
      "llama_new_context_with_model: compute buffer total size = 36.38 MiB\n"
     ]
    }
   ],
   "source": [
    "from langchain_community.llms import LlamaCpp\n",
    "# from langchain_community.llms import OpenAIChat\n",
    "\n",
    "\n",
    "# MODEL_PATH = 'models/mistral-7b-instruct-v0.2.Q2_K.gguf'\n",
    "# MODEL_PATH = 'models/mistral-7b-instruct-v0.2.Q4_K_M.gguf'\n",
    "# MODEL_PATH = 'models/mistral-7b-instruct-v0.2.Q5_K_S.gguf'\n",
    "MODEL_PATH = 'models/42dot_LLM-SFT-1.3B_Q4_K_M.gguf'\n",
    "# MODEL_PATH = 'models/42dot_LLM-SFT-1.3B.gguf'\n",
    "\n",
    "\n",
    "llm = LlamaCpp(\n",
    "    model_path=MODEL_PATH,\n",
    "    temperature=0.1,\n",
    "    n_ctx=32768,\n",
    "    max_tokens=512,\n",
    "    top_p=0.98,\n",
    "    top_k=5,\n",
    "    repeat_penalty=1.176,\n",
    "    last_n_tokens_size=128,\n",
    "    verbose=False,\n",
    "    stop=[\"</s>\"],\n",
    ")"
   ]
  },
  {
   "cell_type": "markdown",
   "id": "39046f6c-6518-476f-a858-baf2458b423d",
   "metadata": {},
   "source": [
    "## 모델 실행"
   ]
  },
  {
   "cell_type": "code",
   "execution_count": 11,
   "id": "de510e25-b6d3-4f91-8764-3de2bc61aee4",
   "metadata": {},
   "outputs": [
    {
     "name": "stdin",
     "output_type": "stream",
     "text": [
      "질문:  golang으로 https://www.naver.com을 크롤링하는 코드를 짜주세요\n"
     ]
    },
    {
     "data": {
      "text/plain": [
       "'\\n```go\\n\\n package main\\n import (\\n  \"fmt\"\\n )\\n func main() {\\n // 네이버 주소 입력 받기\\n url := \"https://www.naver.com\"\\n var input string = \"\"\\n fmt.Println(\"네이버 주소를 입력하세요:\")\\n for _, c := range input {\\n if !c == \\'\\\\\\\\\\' || c != \\'\\\\n\\' && c != \\'\\\\r\\' {\\n break\\n }\\n input += c\\n }\\n fmt.Printf(\"%s\", input)\\n    // URL 요청 및 응답 처리하기\\n resp, err := http.Get(url + input)\\n if err != nil {\\n panic(err)\\n }\\n\\n defer resp.Body.Close()\\n body, _ := ioutil.ReadAll(resp.Body)\\n fmt.Println(string(body))\\n }\\n```'"
      ]
     },
     "execution_count": 11,
     "metadata": {},
     "output_type": "execute_result"
    }
   ],
   "source": [
    "user_input = input(\"질문: \")\n",
    "llm.invoke(prompt.format(question=user_input))"
   ]
  }
 ],
 "metadata": {
  "kernelspec": {
   "display_name": "Python 3 (ipykernel)",
   "language": "python",
   "name": "python3"
  },
  "language_info": {
   "codemirror_mode": {
    "name": "ipython",
    "version": 3
   },
   "file_extension": ".py",
   "mimetype": "text/x-python",
   "name": "python",
   "nbconvert_exporter": "python",
   "pygments_lexer": "ipython3",
   "version": "3.10.11"
  }
 },
 "nbformat": 4,
 "nbformat_minor": 5
}
