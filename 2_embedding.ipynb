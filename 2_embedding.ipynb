{
 "cells": [
  {
   "cell_type": "markdown",
   "id": "3ccc494c-4faf-4fe1-b49d-8a7b2eebfe48",
   "metadata": {},
   "source": [
    "# 임베딩 사용해 보기"
   ]
  },
  {
   "cell_type": "markdown",
   "id": "82a95190-ba18-4491-9976-8f4db7d9af05",
   "metadata": {},
   "source": [
    "## 0. 필요한 패키지 설치\n",
    "- `sentence-transformers` 설치 필요\n",
    "    - `pip install sentence-transformers`"
   ]
  },
  {
   "cell_type": "markdown",
   "id": "c9f86aa6-d1fd-4132-8292-c130f33e8f2d",
   "metadata": {},
   "source": [
    "## 1. 임베딩 임포트"
   ]
  },
  {
   "cell_type": "code",
   "execution_count": 2,
   "id": "0a24722b-801f-4e2d-bb21-ab8e66d08cb1",
   "metadata": {},
   "outputs": [],
   "source": [
    "from langchain_community.embeddings import HuggingFaceEmbeddings\n",
    "# from langchain_community.embeddings import OpenAIEmbeddings\n",
    "# from langchain_community.embeddings import LlamaCppEmbeddings"
   ]
  },
  {
   "cell_type": "markdown",
   "id": "7a70fe5f-ee64-4e7a-92b1-cf0df9810d13",
   "metadata": {},
   "source": [
    "## 2. 임베딩 모델 로드\n",
    "- LLM을 임베딩 모드로 사용할 수 있지만, 우리 PC의 사양이 좋지 못하고 각 임베딩의 관계를 잘 표현하지 못할 수 있음\n",
    "- 본 코드에서는 sentence-transformers를 활용하는 HuggingFaceEmbeddings를 사용\n",
    "- 한국어에 좀 더 적합한 임베딩 모델을 사용 [(링크)](https://github.com/jhgan00/ko-sentence-transformers)"
   ]
  },
  {
   "cell_type": "code",
   "execution_count": 3,
   "id": "4e34eb0c-2fb6-433e-94d7-e93cc386f34e",
   "metadata": {},
   "outputs": [
    {
     "name": "stderr",
     "output_type": "stream",
     "text": [
      "/Users/sucream/python/ai/.venv/lib/python3.10/site-packages/tqdm/auto.py:21: TqdmWarning: IProgress not found. Please update jupyter and ipywidgets. See https://ipywidgets.readthedocs.io/en/stable/user_install.html\n",
      "  from .autonotebook import tqdm as notebook_tqdm\n"
     ]
    }
   ],
   "source": [
    "embedding_model = HuggingFaceEmbeddings(\n",
    "    model_name=\"jhgan/ko-sroberta-multitask\",  # 사용할 모델(huggingface)\n",
    "    cache_folder=\"models\",  # 임베딩시 모델 저장에 사용할 디렉토리 지정\n",
    ")"
   ]
  },
  {
   "cell_type": "code",
   "execution_count": 17,
   "id": "9e294f9d-ebfa-4da2-8511-d15960174954",
   "metadata": {
    "scrolled": true
   },
   "outputs": [
    {
     "name": "stdin",
     "output_type": "stream",
     "text": [
      "Enter your question:  피곤한 것 같아요\n"
     ]
    },
    {
     "name": "stdout",
     "output_type": "stream",
     "text": [
      "len: 768\n",
      "[-0.09456981718540192, -0.7493470907211304, 0.808427095413208, 0.4418898820877075, -0.22291558980941772]\n"
     ]
    }
   ],
   "source": [
    "user_input = input(\"Enter your question: \")\n",
    "em = embedding_model.embed_query(user_input)\n",
    "print(f\"len: {len(em)}\")\n",
    "print(em[:5])"
   ]
  },
  {
   "cell_type": "markdown",
   "id": "7d30b9c7-a514-463e-8775-03bdd9996bdd",
   "metadata": {},
   "source": [
    "# 유사도 확인해 보기"
   ]
  },
  {
   "cell_type": "code",
   "execution_count": 10,
   "id": "dc6d6870-7eb1-4d24-953a-44e1bb7b7512",
   "metadata": {},
   "outputs": [],
   "source": [
    "data_list = [\n",
    "    \"안녕하세요\",\n",
    "    \"하이\",\n",
    "    \"배가 너무 고파요\",\n",
    "    \"빨리 집에 가고싶어요\",\n",
    "    \"오늘은 날씨가 정말 좋네요\"\n",
    "]\n",
    "\n",
    "em_list = embedding_model.embed_documents(data_list)"
   ]
  },
  {
   "cell_type": "code",
   "execution_count": 11,
   "id": "af7a7f42-67d7-4700-840a-59ae5b9d760d",
   "metadata": {},
   "outputs": [],
   "source": [
    "import numpy as np\n",
    "from numpy.linalg import norm\n",
    "\n",
    "def cos_sim(A, B):\n",
    "  return np.dot(A, B)/(norm(A)*norm(B))"
   ]
  },
  {
   "cell_type": "code",
   "execution_count": 15,
   "id": "6db510bf-2494-47ac-b51d-c2be223c15e6",
   "metadata": {},
   "outputs": [
    {
     "name": "stdin",
     "output_type": "stream",
     "text": [
      "입력:  배고파 죽을 것 같아요\n"
     ]
    },
    {
     "name": "stdout",
     "output_type": "stream",
     "text": [
      "0.13234199690067916\n",
      "0.16379533543354127\n",
      "0.7148723010925735\n",
      "0.4528340803845859\n",
      "0.17378247344097547\n"
     ]
    }
   ],
   "source": [
    "user_input = input(\"입력: \")\n",
    "\n",
    "for em in em_list:\n",
    "    print(cos_sim(embedding_model.embed_query(user_input), em))"
   ]
  },
  {
   "cell_type": "code",
   "execution_count": null,
   "id": "82e40c48-b9a9-4803-9138-8f4d7f5bd26f",
   "metadata": {},
   "outputs": [],
   "source": []
  },
  {
   "cell_type": "code",
   "execution_count": null,
   "id": "95b0d2ba-972c-437e-bd5e-16325a6947d2",
   "metadata": {},
   "outputs": [],
   "source": []
  }
 ],
 "metadata": {
  "kernelspec": {
   "display_name": "Python 3 (ipykernel)",
   "language": "python",
   "name": "python3"
  },
  "language_info": {
   "codemirror_mode": {
    "name": "ipython",
    "version": 3
   },
   "file_extension": ".py",
   "mimetype": "text/x-python",
   "name": "python",
   "nbconvert_exporter": "python",
   "pygments_lexer": "ipython3",
   "version": "3.10.11"
  }
 },
 "nbformat": 4,
 "nbformat_minor": 5
}
